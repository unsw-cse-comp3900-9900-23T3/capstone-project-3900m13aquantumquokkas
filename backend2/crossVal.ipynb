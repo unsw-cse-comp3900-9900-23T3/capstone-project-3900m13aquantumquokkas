{
 "cells": [
  {
   "cell_type": "code",
   "execution_count": 1,
   "metadata": {},
   "outputs": [
    {
     "name": "stderr",
     "output_type": "stream",
     "text": [
      "c:\\Users\\hayl0\\AppData\\Local\\Programs\\Python\\Python311\\Lib\\site-packages\\tqdm\\auto.py:21: TqdmWarning: IProgress not found. Please update jupyter and ipywidgets. See https://ipywidgets.readthedocs.io/en/stable/user_install.html\n",
      "  from .autonotebook import tqdm as notebook_tqdm\n"
     ]
    }
   ],
   "source": [
    "from dataset import FakeNewsDataset"
   ]
  },
  {
   "cell_type": "code",
   "execution_count": 2,
   "metadata": {},
   "outputs": [
    {
     "name": "stdout",
     "output_type": "stream",
     "text": [
      "       Analytic     Clout  Authentic      Tone\n",
      "4539   0.677553 -1.616614   1.488543 -0.352198\n",
      "2505   0.333224 -1.616614   1.750466 -0.352198\n",
      "1125   0.626076  0.409531  -0.828431  1.695844\n",
      "4760   0.694713 -1.517793  -0.060922  2.070806\n",
      "3417   0.626076 -1.093053  -0.828431 -0.352198\n",
      "...         ...       ...        ...       ...\n",
      "8665   0.333224  1.456969   1.750466 -0.352198\n",
      "11823 -0.037797  0.611924   0.131228 -0.352198\n",
      "11893  0.694713  1.456969  -0.920554 -0.961195\n",
      "12253  0.694713  1.250776  -0.920554 -0.352198\n",
      "1961   0.477362 -0.401941  -0.776374 -0.352198\n",
      "\n",
      "[10204 rows x 4 columns]\n",
      "4539     1\n",
      "2505     1\n",
      "1125     1\n",
      "4760     1\n",
      "3417     1\n",
      "        ..\n",
      "8665     0\n",
      "11823    0\n",
      "11893    0\n",
      "12253    0\n",
      "1961     0\n",
      "Name: label, Length: 10204, dtype: int64\n"
     ]
    }
   ],
   "source": [
    "fakeNewsDataset = FakeNewsDataset()\n",
    "train, test, validation = fakeNewsDataset.getData1()\n",
    "\n",
    "features = ['Analytic', 'Clout', 'Authentic', 'Tone'] \n",
    "response = 'label' \n",
    "\n",
    "x_train = train[features] \n",
    "y_train = train[response]\n",
    "x_test = test[features]\n",
    "y_test = test[response]\n",
    "\n",
    "print(x_train)\n",
    "print(y_train)"
   ]
  },
  {
   "cell_type": "code",
   "execution_count": 3,
   "metadata": {},
   "outputs": [],
   "source": [
    "from sklearn.tree import DecisionTreeClassifier\n",
    "from sklearn.model_selection import KFold, cross_val_score, StratifiedKFold"
   ]
  },
  {
   "cell_type": "code",
   "execution_count": 4,
   "metadata": {},
   "outputs": [
    {
     "name": "stdout",
     "output_type": "stream",
     "text": [
      "Cross Validation Scores:  [0.36728697 0.38001959 0.37806072 0.35749265 0.39411765 0.5254902\n",
      " 0.50588235 0.53921569 0.50882353 0.51666667]\n",
      "Average CV Score:  0.4473056019665457\n",
      "Number of CV Scores used in Average:  10\n"
     ]
    }
   ],
   "source": [
    "clf = DecisionTreeClassifier(random_state=42)\n",
    "\n",
    "k_folds = KFold(n_splits = 10)\n",
    "\n",
    "scores = cross_val_score(clf, x_train, y_train, cv = k_folds)\n",
    "\n",
    "print(\"Cross Validation Scores: \", scores)\n",
    "print(\"Average CV Score: \", scores.mean())\n",
    "print(\"Number of CV Scores used in Average: \", len(scores))"
   ]
  },
  {
   "cell_type": "code",
   "execution_count": 5,
   "metadata": {},
   "outputs": [
    {
     "name": "stdout",
     "output_type": "stream",
     "text": [
      "Cross Validation Scores:  [0.53183154 0.51028404 0.51518119 0.54064643 0.48823529 0.5245098\n",
      " 0.51470588 0.50784314 0.51862745 0.50490196]\n",
      "Average CV Score:  0.5156766722359855\n",
      "Number of CV Scores used in Average:  10\n"
     ]
    }
   ],
   "source": [
    "clf = DecisionTreeClassifier(random_state=42)\n",
    "\n",
    "sk_folds = StratifiedKFold(n_splits = 10)\n",
    "\n",
    "scores = cross_val_score(clf, x_train, y_train, cv = sk_folds)\n",
    "\n",
    "print(\"Cross Validation Scores: \", scores)\n",
    "print(\"Average CV Score: \", scores.mean())\n",
    "print(\"Number of CV Scores used in Average: \", len(scores))"
   ]
  }
 ],
 "metadata": {
  "kernelspec": {
   "display_name": "Python 3",
   "language": "python",
   "name": "python3"
  },
  "language_info": {
   "codemirror_mode": {
    "name": "ipython",
    "version": 3
   },
   "file_extension": ".py",
   "mimetype": "text/x-python",
   "name": "python",
   "nbconvert_exporter": "python",
   "pygments_lexer": "ipython3",
   "version": "3.11.4"
  }
 },
 "nbformat": 4,
 "nbformat_minor": 2
}
