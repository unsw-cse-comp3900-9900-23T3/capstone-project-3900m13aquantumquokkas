{
 "cells": [
  {
   "cell_type": "code",
   "execution_count": 1,
   "metadata": {},
   "outputs": [
    {
     "name": "stdout",
     "output_type": "stream",
     "text": [
      "Requirement already satisfied: datasets in /Library/Frameworks/Python.framework/Versions/3.11/lib/python3.11/site-packages (2.14.5)\n",
      "Requirement already satisfied: numpy>=1.17 in /Library/Frameworks/Python.framework/Versions/3.11/lib/python3.11/site-packages (from datasets) (1.23.5)\n",
      "Requirement already satisfied: pyarrow>=8.0.0 in /Library/Frameworks/Python.framework/Versions/3.11/lib/python3.11/site-packages (from datasets) (13.0.0)\n",
      "Requirement already satisfied: dill<0.3.8,>=0.3.0 in /Library/Frameworks/Python.framework/Versions/3.11/lib/python3.11/site-packages (from datasets) (0.3.7)\n",
      "Requirement already satisfied: pandas in /Library/Frameworks/Python.framework/Versions/3.11/lib/python3.11/site-packages (from datasets) (2.0.1)\n",
      "Requirement already satisfied: requests>=2.19.0 in /Users/seohong-gyo/Library/Python/3.11/lib/python/site-packages (from datasets) (2.30.0)\n",
      "Requirement already satisfied: tqdm>=4.62.1 in /Users/seohong-gyo/Library/Python/3.11/lib/python/site-packages (from datasets) (4.65.0)\n",
      "Requirement already satisfied: xxhash in /Library/Frameworks/Python.framework/Versions/3.11/lib/python3.11/site-packages (from datasets) (3.4.1)\n",
      "Requirement already satisfied: multiprocess in /Library/Frameworks/Python.framework/Versions/3.11/lib/python3.11/site-packages (from datasets) (0.70.15)\n",
      "Requirement already satisfied: fsspec[http]<2023.9.0,>=2023.1.0 in /Library/Frameworks/Python.framework/Versions/3.11/lib/python3.11/site-packages (from datasets) (2023.6.0)\n",
      "Requirement already satisfied: aiohttp in /Library/Frameworks/Python.framework/Versions/3.11/lib/python3.11/site-packages (from datasets) (3.8.5)\n",
      "Requirement already satisfied: huggingface-hub<1.0.0,>=0.14.0 in /Library/Frameworks/Python.framework/Versions/3.11/lib/python3.11/site-packages (from datasets) (0.17.3)\n",
      "Requirement already satisfied: packaging in /Library/Frameworks/Python.framework/Versions/3.11/lib/python3.11/site-packages (from datasets) (23.0)\n",
      "Requirement already satisfied: pyyaml>=5.1 in /Library/Frameworks/Python.framework/Versions/3.11/lib/python3.11/site-packages (from datasets) (6.0)\n",
      "Requirement already satisfied: attrs>=17.3.0 in /Library/Frameworks/Python.framework/Versions/3.11/lib/python3.11/site-packages (from aiohttp->datasets) (23.1.0)\n",
      "Requirement already satisfied: charset-normalizer<4.0,>=2.0 in /Users/seohong-gyo/Library/Python/3.11/lib/python/site-packages (from aiohttp->datasets) (3.1.0)\n",
      "Requirement already satisfied: multidict<7.0,>=4.5 in /Library/Frameworks/Python.framework/Versions/3.11/lib/python3.11/site-packages (from aiohttp->datasets) (6.0.4)\n",
      "Requirement already satisfied: async-timeout<5.0,>=4.0.0a3 in /Library/Frameworks/Python.framework/Versions/3.11/lib/python3.11/site-packages (from aiohttp->datasets) (4.0.3)\n",
      "Requirement already satisfied: yarl<2.0,>=1.0 in /Library/Frameworks/Python.framework/Versions/3.11/lib/python3.11/site-packages (from aiohttp->datasets) (1.9.2)\n",
      "Requirement already satisfied: frozenlist>=1.1.1 in /Library/Frameworks/Python.framework/Versions/3.11/lib/python3.11/site-packages (from aiohttp->datasets) (1.4.0)\n",
      "Requirement already satisfied: aiosignal>=1.1.2 in /Library/Frameworks/Python.framework/Versions/3.11/lib/python3.11/site-packages (from aiohttp->datasets) (1.3.1)\n",
      "Requirement already satisfied: filelock in /Library/Frameworks/Python.framework/Versions/3.11/lib/python3.11/site-packages (from huggingface-hub<1.0.0,>=0.14.0->datasets) (3.12.0)\n",
      "Requirement already satisfied: typing-extensions>=3.7.4.3 in /Library/Frameworks/Python.framework/Versions/3.11/lib/python3.11/site-packages (from huggingface-hub<1.0.0,>=0.14.0->datasets) (4.6.2)\n",
      "Requirement already satisfied: idna<4,>=2.5 in /Users/seohong-gyo/Library/Python/3.11/lib/python/site-packages (from requests>=2.19.0->datasets) (3.4)\n",
      "Requirement already satisfied: urllib3<3,>=1.21.1 in /Library/Frameworks/Python.framework/Versions/3.11/lib/python3.11/site-packages (from requests>=2.19.0->datasets) (1.26.16)\n",
      "Requirement already satisfied: certifi>=2017.4.17 in /Users/seohong-gyo/Library/Python/3.11/lib/python/site-packages (from requests>=2.19.0->datasets) (2023.5.7)\n",
      "Requirement already satisfied: python-dateutil>=2.8.2 in /Library/Frameworks/Python.framework/Versions/3.11/lib/python3.11/site-packages (from pandas->datasets) (2.8.2)\n",
      "Requirement already satisfied: pytz>=2020.1 in /Library/Frameworks/Python.framework/Versions/3.11/lib/python3.11/site-packages (from pandas->datasets) (2023.3)\n",
      "Requirement already satisfied: tzdata>=2022.1 in /Library/Frameworks/Python.framework/Versions/3.11/lib/python3.11/site-packages (from pandas->datasets) (2023.3)\n",
      "Requirement already satisfied: six>=1.5 in /Library/Frameworks/Python.framework/Versions/3.11/lib/python3.11/site-packages (from python-dateutil>=2.8.2->pandas->datasets) (1.16.0)\n",
      "Note: you may need to restart the kernel to use updated packages.\n"
     ]
    }
   ],
   "source": [
    "# Huggingface dataset\n",
    "%pip install datasets"
   ]
  },
  {
   "cell_type": "code",
   "execution_count": 2,
   "metadata": {},
   "outputs": [],
   "source": [
    "from datasets import load_dataset"
   ]
  },
  {
   "cell_type": "code",
   "execution_count": 3,
   "metadata": {},
   "outputs": [],
   "source": [
    "# Access LIAR dataset via Huggingface, split dataset into train/test/validation with ratio 8:1:1\n",
    "dataset = load_dataset('liar')\n",
    "train_dataset = dataset['train']\n",
    "test_dataset = dataset['test']\n",
    "validation_dataset = dataset['validation']"
   ]
  },
  {
   "cell_type": "code",
   "execution_count": 5,
   "metadata": {},
   "outputs": [
    {
     "name": "stdout",
     "output_type": "stream",
     "text": [
      "train__________________________________________\n",
      "{'id': '2635.json', 'label': 0, 'statement': 'Says the Annies List political group supports third-trimester abortions on demand.', 'subject': 'abortion', 'speaker': 'dwayne-bohac', 'job_title': 'State representative', 'state_info': 'Texas', 'party_affiliation': 'republican', 'barely_true_counts': 0.0, 'false_counts': 1.0, 'half_true_counts': 0.0, 'mostly_true_counts': 0.0, 'pants_on_fire_counts': 0.0, 'context': 'a mailer'}\n",
      "{'id': '10540.json', 'label': 1, 'statement': 'When did the decline of coal start? It started when natural gas took off that started to begin in (President George W.) Bushs administration.', 'subject': 'energy,history,job-accomplishments', 'speaker': 'scott-surovell', 'job_title': 'State delegate', 'state_info': 'Virginia', 'party_affiliation': 'democrat', 'barely_true_counts': 0.0, 'false_counts': 0.0, 'half_true_counts': 1.0, 'mostly_true_counts': 1.0, 'pants_on_fire_counts': 0.0, 'context': 'a floor speech.'}\n",
      "{'id': '324.json', 'label': 2, 'statement': 'Hillary Clinton agrees with John McCain \"by voting to give George Bush the benefit of the doubt on Iran.\"', 'subject': 'foreign-policy', 'speaker': 'barack-obama', 'job_title': 'President', 'state_info': 'Illinois', 'party_affiliation': 'democrat', 'barely_true_counts': 70.0, 'false_counts': 71.0, 'half_true_counts': 160.0, 'mostly_true_counts': 163.0, 'pants_on_fire_counts': 9.0, 'context': 'Denver'}\n",
      "{'id': '1123.json', 'label': 0, 'statement': 'Health care reform legislation is likely to mandate free sex change surgeries.', 'subject': 'health-care', 'speaker': 'blog-posting', 'job_title': '', 'state_info': '', 'party_affiliation': 'none', 'barely_true_counts': 7.0, 'false_counts': 19.0, 'half_true_counts': 3.0, 'mostly_true_counts': 5.0, 'pants_on_fire_counts': 44.0, 'context': 'a news release'}\n",
      "{'id': '9028.json', 'label': 1, 'statement': 'The economic turnaround started at the end of my term.', 'subject': 'economy,jobs', 'speaker': 'charlie-crist', 'job_title': '', 'state_info': 'Florida', 'party_affiliation': 'democrat', 'barely_true_counts': 15.0, 'false_counts': 9.0, 'half_true_counts': 20.0, 'mostly_true_counts': 19.0, 'pants_on_fire_counts': 2.0, 'context': 'an interview on CNN'}\n",
      "test__________________________________________\n",
      "{'id': '11972.json', 'label': 3, 'statement': 'Building a wall on the U.S.-Mexico border will take literally years.', 'subject': 'immigration', 'speaker': 'rick-perry', 'job_title': 'Governor', 'state_info': 'Texas', 'party_affiliation': 'republican', 'barely_true_counts': 30.0, 'false_counts': 30.0, 'half_true_counts': 42.0, 'mostly_true_counts': 23.0, 'pants_on_fire_counts': 18.0, 'context': 'Radio interview'}\n",
      "{'id': '11685.json', 'label': 0, 'statement': 'Wisconsin is on pace to double the number of layoffs this year.', 'subject': 'jobs', 'speaker': 'katrina-shankland', 'job_title': 'State representative', 'state_info': 'Wisconsin', 'party_affiliation': 'democrat', 'barely_true_counts': 2.0, 'false_counts': 1.0, 'half_true_counts': 0.0, 'mostly_true_counts': 0.0, 'pants_on_fire_counts': 0.0, 'context': 'a news conference'}\n",
      "{'id': '11096.json', 'label': 0, 'statement': 'Says John McCain has done nothing to help the vets.', 'subject': 'military,veterans,voting-record', 'speaker': 'donald-trump', 'job_title': 'President-Elect', 'state_info': 'New York', 'party_affiliation': 'republican', 'barely_true_counts': 63.0, 'false_counts': 114.0, 'half_true_counts': 51.0, 'mostly_true_counts': 37.0, 'pants_on_fire_counts': 61.0, 'context': \"comments on ABC's This Week.\"}\n",
      "{'id': '5209.json', 'label': 1, 'statement': 'Suzanne Bonamici supports a plan that will cut choice for Medicare Advantage seniors.', 'subject': 'medicare,message-machine-2012,campaign-advertising', 'speaker': 'rob-cornilles', 'job_title': 'consultant', 'state_info': 'Oregon', 'party_affiliation': 'republican', 'barely_true_counts': 1.0, 'false_counts': 1.0, 'half_true_counts': 3.0, 'mostly_true_counts': 1.0, 'pants_on_fire_counts': 1.0, 'context': 'a radio show'}\n",
      "{'id': '9524.json', 'label': 5, 'statement': 'When asked by a reporter whether hes at the center of a criminal scheme to violate campaign laws, Gov. Scott Walker nodded yes.', 'subject': 'campaign-finance,legal-issues,campaign-advertising', 'speaker': 'state-democratic-party-wisconsin', 'job_title': '', 'state_info': 'Wisconsin', 'party_affiliation': 'democrat', 'barely_true_counts': 5.0, 'false_counts': 7.0, 'half_true_counts': 2.0, 'mostly_true_counts': 2.0, 'pants_on_fire_counts': 7.0, 'context': 'a web video'}\n",
      "validation__________________________________________\n",
      "{'id': '12134.json', 'label': 4, 'statement': 'We have less Americans working now than in the 70s.', 'subject': 'economy,jobs', 'speaker': 'vicky-hartzler', 'job_title': 'U.S. Representative', 'state_info': 'Missouri', 'party_affiliation': 'republican', 'barely_true_counts': 1.0, 'false_counts': 0.0, 'half_true_counts': 1.0, 'mostly_true_counts': 0.0, 'pants_on_fire_counts': 0.0, 'context': 'an interview with ABC17 News'}\n",
      "{'id': '238.json', 'label': 5, 'statement': 'When Obama was sworn into office, he DID NOT use the Holy Bible, but instead the Kuran (Their equivalency to our Bible, but very different beliefs).', 'subject': 'obama-birth-certificate,religion', 'speaker': 'chain-email', 'job_title': '', 'state_info': '', 'party_affiliation': 'none', 'barely_true_counts': 11.0, 'false_counts': 43.0, 'half_true_counts': 8.0, 'mostly_true_counts': 5.0, 'pants_on_fire_counts': 105.0, 'context': ''}\n",
      "{'id': '7891.json', 'label': 0, 'statement': 'Says Having organizations parading as being social welfare organizations and then being involved in the political combat harkens back to why the statute a hundred years ago said that they were prohibited.', 'subject': 'campaign-finance,congress,taxes', 'speaker': 'earl-blumenauer', 'job_title': 'U.S. representative', 'state_info': 'Oregon', 'party_affiliation': 'democrat', 'barely_true_counts': 0.0, 'false_counts': 1.0, 'half_true_counts': 1.0, 'mostly_true_counts': 1.0, 'pants_on_fire_counts': 0.0, 'context': 'a U.S. Ways and Means hearing'}\n",
      "{'id': '8169.json', 'label': 1, 'statement': 'Says nearly half of Oregons children are poor.', 'subject': 'poverty', 'speaker': 'jim-francesconi', 'job_title': 'Member of the State Board of Higher Education', 'state_info': 'Oregon', 'party_affiliation': 'none', 'barely_true_counts': 0.0, 'false_counts': 1.0, 'half_true_counts': 1.0, 'mostly_true_counts': 1.0, 'pants_on_fire_counts': 0.0, 'context': 'an opinion article'}\n",
      "{'id': '929.json', 'label': 1, 'statement': 'On attacks by Republicans that various programs in the economic stimulus plan are not stimulative, \"If you add all that stuff up, it accounts for less than 1 percent of the overall package.\"', 'subject': 'economy,stimulus', 'speaker': 'barack-obama', 'job_title': 'President', 'state_info': 'Illinois', 'party_affiliation': 'democrat', 'barely_true_counts': 70.0, 'false_counts': 71.0, 'half_true_counts': 160.0, 'mostly_true_counts': 163.0, 'pants_on_fire_counts': 9.0, 'context': 'interview with CBS News'}\n"
     ]
    }
   ],
   "source": [
    "print(\"train__________________________________________\")\n",
    "for index, data in enumerate(train_dataset):\n",
    "    if index == 5:\n",
    "        break\n",
    "    print(data)\n",
    "print(\"test__________________________________________\")\n",
    "for index, data in enumerate(test_dataset):\n",
    "    if index == 5:\n",
    "        break\n",
    "    print(data)\n",
    "print(\"validation__________________________________________\")\n",
    "for index, data in enumerate(validation_dataset):\n",
    "    if index == 5:\n",
    "        break\n",
    "    print(data)"
   ]
  },
  {
   "cell_type": "code",
   "execution_count": 6,
   "metadata": {},
   "outputs": [],
   "source": [
    "import pandas as pd"
   ]
  },
  {
   "cell_type": "code",
   "execution_count": 7,
   "metadata": {},
   "outputs": [
    {
     "name": "stdout",
     "output_type": "stream",
     "text": [
      "label                                                        0\n",
      "statement    Says the Annies List political group supports ...\n",
      "subject                                               abortion\n",
      "Name: 0, dtype: object\n",
      "label                                                        3\n",
      "statement    Building a wall on the U.S.-Mexico border will...\n",
      "subject                                            immigration\n",
      "Name: 0, dtype: object\n",
      "label                                                        4\n",
      "statement    We have less Americans working now than in the...\n",
      "subject                                           economy,jobs\n",
      "Name: 0, dtype: object\n"
     ]
    }
   ],
   "source": [
    "# Extract data to use, frame into pandas dataframe for training/test\n",
    "data = {\"label\": train_dataset['label'], \"statement\": train_dataset['statement'], \"subject\": train_dataset['subject']}\n",
    "pd_train_dataset = pd.DataFrame(data)\n",
    "data = {\"label\": test_dataset['label'], \"statement\": test_dataset['statement'], \"subject\": test_dataset['subject']}\n",
    "pd_test_dataset = pd.DataFrame(data)\n",
    "data = {\"label\": validation_dataset['label'], \"statement\": validation_dataset['statement'], \"subject\": validation_dataset['subject']}\n",
    "pd_validation_dataset = pd.DataFrame(data)\n",
    "\n",
    "print(pd_train_dataset.iloc[0])\n",
    "print(pd_test_dataset.iloc[0])\n",
    "print(pd_validation_dataset.iloc[0])"
   ]
  },
  {
   "cell_type": "code",
   "execution_count": 8,
   "metadata": {},
   "outputs": [],
   "source": [
    "import subprocess"
   ]
  },
  {
   "cell_type": "code",
   "execution_count": null,
   "metadata": {},
   "outputs": [],
   "source": [
    "# To process LIAR dataset with LIWC software for text analysis\n",
    "with open('train_analysis.txt', 'a') as f:\n",
    "    length = len(pd_validation_dataset[\"statement\"])\n",
    "    for index in range(length):\n",
    "        sentence = pd_validation_dataset[\"statement\"][index]\n",
    "        cmd_to_execute = [\n",
    "            \"LIWC-22-cli\",\n",
    "            \"--mode\", \"wc\",\n",
    "            \"--input\", \"console\",\n",
    "            \"--console-text\", sentence,\n",
    "            \"--output\", \"console\"\n",
    "        ]\n",
    "        try:\n",
    "            results = subprocess.check_output(cmd_to_execute, stderr=subprocess.DEVNULL).decode().strip().splitlines()\n",
    "            print(f\"{index}/{length}\")\n",
    "            f.write(results[7])\n",
    "            f.write('\\n\\n')\n",
    "        except Exception as e:\n",
    "            print(f\"Error processing sentence: {sentence}. Error: {e}\")\n",
    "\n",
    "with open('train_analysis.txt', 'a') as f:\n",
    "    length = len(pd_validation_dataset[\"statement\"])\n",
    "    for index in range(length):\n",
    "        sentence = pd_validation_dataset[\"statement\"][index]\n",
    "        cmd_to_execute = [\n",
    "            \"LIWC-22-cli\",\n",
    "            \"--mode\", \"wc\",\n",
    "            \"--input\", \"console\",\n",
    "            \"--console-text\", sentence,\n",
    "            \"--output\", \"console\"\n",
    "        ]\n",
    "        try:\n",
    "            results = subprocess.check_output(cmd_to_execute, stderr=subprocess.DEVNULL).decode().strip().splitlines()\n",
    "            print(f\"{index}/{length}\")\n",
    "            f.write(results[7])\n",
    "            f.write('\\n\\n')\n",
    "        except Exception as e:\n",
    "            print(f\"Error processing sentence: {sentence}. Error: {e}\")\n",
    "\n",
    "with open('train_analysis.txt', 'a') as f:\n",
    "    length = len(pd_validation_dataset[\"statement\"])\n",
    "    for index in range(length):\n",
    "        sentence = pd_validation_dataset[\"statement\"][index]\n",
    "        cmd_to_execute = [\n",
    "            \"LIWC-22-cli\",\n",
    "            \"--mode\", \"wc\",\n",
    "            \"--input\", \"console\",\n",
    "            \"--console-text\", sentence,\n",
    "            \"--output\", \"console\"\n",
    "        ]\n",
    "        try:\n",
    "            results = subprocess.check_output(cmd_to_execute, stderr=subprocess.DEVNULL).decode().strip().splitlines()\n",
    "            print(f\"{index}/{length}\")\n",
    "            f.write(results[7])\n",
    "            f.write('\\n\\n')\n",
    "        except Exception as e:\n",
    "            print(f\"Error processing sentence: {sentence}. Error: {e}\")"
   ]
  }
 ],
 "metadata": {
  "kernelspec": {
   "display_name": "Python 3",
   "language": "python",
   "name": "python3"
  },
  "language_info": {
   "codemirror_mode": {
    "name": "ipython",
    "version": 3
   },
   "file_extension": ".py",
   "mimetype": "text/x-python",
   "name": "python",
   "nbconvert_exporter": "python",
   "pygments_lexer": "ipython3",
   "version": "3.11.1"
  }
 },
 "nbformat": 4,
 "nbformat_minor": 2
}
